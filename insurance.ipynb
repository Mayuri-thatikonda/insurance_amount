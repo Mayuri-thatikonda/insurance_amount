{
  "nbformat": 4,
  "nbformat_minor": 0,
  "metadata": {
    "colab": {
      "name": "insurance.ipynb",
      "provenance": [],
      "collapsed_sections": [],
      "authorship_tag": "ABX9TyMNdodBwyNkUJWLkY4Abogm",
      "include_colab_link": true
    },
    "kernelspec": {
      "name": "python3",
      "display_name": "Python 3"
    },
    "language_info": {
      "name": "python"
    }
  },
  "cells": [
    {
      "cell_type": "markdown",
      "metadata": {
        "id": "view-in-github",
        "colab_type": "text"
      },
      "source": [
        "<a href=\"https://colab.research.google.com/github/Mayuri-thatikonda/insurance_amount/blob/main/insurance.ipynb\" target=\"_parent\"><img src=\"https://colab.research.google.com/assets/colab-badge.svg\" alt=\"Open In Colab\"/></a>"
      ]
    },
    {
      "cell_type": "code",
      "metadata": {
        "id": "e_TLUqmhXY11"
      },
      "source": [
        "import numpy as np\n",
        "import pandas as pd\n",
        "import matplotlib.pyplot as plt\n"
      ],
      "execution_count": null,
      "outputs": []
    },
    {
      "cell_type": "code",
      "metadata": {
        "id": "udFHyGbEXpgh"
      },
      "source": [
        "dataset = pd.read_csv('insurance.csv')"
      ],
      "execution_count": null,
      "outputs": []
    },
    {
      "cell_type": "code",
      "metadata": {
        "colab": {
          "base_uri": "https://localhost:8080/",
          "height": 206
        },
        "id": "A9Ld20hjXx5g",
        "outputId": "1647d1ae-5389-47b0-9104-10b6ae05e510"
      },
      "source": [
        "dataset.head()"
      ],
      "execution_count": null,
      "outputs": [
        {
          "output_type": "execute_result",
          "data": {
            "text/html": [
              "<div>\n",
              "<style scoped>\n",
              "    .dataframe tbody tr th:only-of-type {\n",
              "        vertical-align: middle;\n",
              "    }\n",
              "\n",
              "    .dataframe tbody tr th {\n",
              "        vertical-align: top;\n",
              "    }\n",
              "\n",
              "    .dataframe thead th {\n",
              "        text-align: right;\n",
              "    }\n",
              "</style>\n",
              "<table border=\"1\" class=\"dataframe\">\n",
              "  <thead>\n",
              "    <tr style=\"text-align: right;\">\n",
              "      <th></th>\n",
              "      <th>age</th>\n",
              "      <th>sex</th>\n",
              "      <th>bmi</th>\n",
              "      <th>children</th>\n",
              "      <th>smoker</th>\n",
              "      <th>region</th>\n",
              "      <th>expenses</th>\n",
              "    </tr>\n",
              "  </thead>\n",
              "  <tbody>\n",
              "    <tr>\n",
              "      <th>0</th>\n",
              "      <td>19</td>\n",
              "      <td>female</td>\n",
              "      <td>27.9</td>\n",
              "      <td>0</td>\n",
              "      <td>yes</td>\n",
              "      <td>southwest</td>\n",
              "      <td>16884.92</td>\n",
              "    </tr>\n",
              "    <tr>\n",
              "      <th>1</th>\n",
              "      <td>18</td>\n",
              "      <td>male</td>\n",
              "      <td>33.8</td>\n",
              "      <td>1</td>\n",
              "      <td>no</td>\n",
              "      <td>southeast</td>\n",
              "      <td>1725.55</td>\n",
              "    </tr>\n",
              "    <tr>\n",
              "      <th>2</th>\n",
              "      <td>28</td>\n",
              "      <td>male</td>\n",
              "      <td>33.0</td>\n",
              "      <td>3</td>\n",
              "      <td>no</td>\n",
              "      <td>southeast</td>\n",
              "      <td>4449.46</td>\n",
              "    </tr>\n",
              "    <tr>\n",
              "      <th>3</th>\n",
              "      <td>33</td>\n",
              "      <td>male</td>\n",
              "      <td>22.7</td>\n",
              "      <td>0</td>\n",
              "      <td>no</td>\n",
              "      <td>northwest</td>\n",
              "      <td>21984.47</td>\n",
              "    </tr>\n",
              "    <tr>\n",
              "      <th>4</th>\n",
              "      <td>32</td>\n",
              "      <td>male</td>\n",
              "      <td>28.9</td>\n",
              "      <td>0</td>\n",
              "      <td>no</td>\n",
              "      <td>northwest</td>\n",
              "      <td>3866.86</td>\n",
              "    </tr>\n",
              "  </tbody>\n",
              "</table>\n",
              "</div>"
            ],
            "text/plain": [
              "   age     sex   bmi  children smoker     region  expenses\n",
              "0   19  female  27.9         0    yes  southwest  16884.92\n",
              "1   18    male  33.8         1     no  southeast   1725.55\n",
              "2   28    male  33.0         3     no  southeast   4449.46\n",
              "3   33    male  22.7         0     no  northwest  21984.47\n",
              "4   32    male  28.9         0     no  northwest   3866.86"
            ]
          },
          "metadata": {
            "tags": []
          },
          "execution_count": 3
        }
      ]
    },
    {
      "cell_type": "code",
      "metadata": {
        "colab": {
          "base_uri": "https://localhost:8080/",
          "height": 300
        },
        "id": "NgbPYByKYKaF",
        "outputId": "28dba676-5a17-47e0-f183-6f879b6512b7"
      },
      "source": [
        "dataset.describe()"
      ],
      "execution_count": null,
      "outputs": [
        {
          "output_type": "execute_result",
          "data": {
            "text/html": [
              "<div>\n",
              "<style scoped>\n",
              "    .dataframe tbody tr th:only-of-type {\n",
              "        vertical-align: middle;\n",
              "    }\n",
              "\n",
              "    .dataframe tbody tr th {\n",
              "        vertical-align: top;\n",
              "    }\n",
              "\n",
              "    .dataframe thead th {\n",
              "        text-align: right;\n",
              "    }\n",
              "</style>\n",
              "<table border=\"1\" class=\"dataframe\">\n",
              "  <thead>\n",
              "    <tr style=\"text-align: right;\">\n",
              "      <th></th>\n",
              "      <th>age</th>\n",
              "      <th>bmi</th>\n",
              "      <th>children</th>\n",
              "      <th>expenses</th>\n",
              "    </tr>\n",
              "  </thead>\n",
              "  <tbody>\n",
              "    <tr>\n",
              "      <th>count</th>\n",
              "      <td>1338.000000</td>\n",
              "      <td>1338.000000</td>\n",
              "      <td>1338.000000</td>\n",
              "      <td>1338.000000</td>\n",
              "    </tr>\n",
              "    <tr>\n",
              "      <th>mean</th>\n",
              "      <td>39.207025</td>\n",
              "      <td>30.665471</td>\n",
              "      <td>1.094918</td>\n",
              "      <td>13270.422414</td>\n",
              "    </tr>\n",
              "    <tr>\n",
              "      <th>std</th>\n",
              "      <td>14.049960</td>\n",
              "      <td>6.098382</td>\n",
              "      <td>1.205493</td>\n",
              "      <td>12110.011240</td>\n",
              "    </tr>\n",
              "    <tr>\n",
              "      <th>min</th>\n",
              "      <td>18.000000</td>\n",
              "      <td>16.000000</td>\n",
              "      <td>0.000000</td>\n",
              "      <td>1121.870000</td>\n",
              "    </tr>\n",
              "    <tr>\n",
              "      <th>25%</th>\n",
              "      <td>27.000000</td>\n",
              "      <td>26.300000</td>\n",
              "      <td>0.000000</td>\n",
              "      <td>4740.287500</td>\n",
              "    </tr>\n",
              "    <tr>\n",
              "      <th>50%</th>\n",
              "      <td>39.000000</td>\n",
              "      <td>30.400000</td>\n",
              "      <td>1.000000</td>\n",
              "      <td>9382.030000</td>\n",
              "    </tr>\n",
              "    <tr>\n",
              "      <th>75%</th>\n",
              "      <td>51.000000</td>\n",
              "      <td>34.700000</td>\n",
              "      <td>2.000000</td>\n",
              "      <td>16639.915000</td>\n",
              "    </tr>\n",
              "    <tr>\n",
              "      <th>max</th>\n",
              "      <td>64.000000</td>\n",
              "      <td>53.100000</td>\n",
              "      <td>5.000000</td>\n",
              "      <td>63770.430000</td>\n",
              "    </tr>\n",
              "  </tbody>\n",
              "</table>\n",
              "</div>"
            ],
            "text/plain": [
              "               age          bmi     children      expenses\n",
              "count  1338.000000  1338.000000  1338.000000   1338.000000\n",
              "mean     39.207025    30.665471     1.094918  13270.422414\n",
              "std      14.049960     6.098382     1.205493  12110.011240\n",
              "min      18.000000    16.000000     0.000000   1121.870000\n",
              "25%      27.000000    26.300000     0.000000   4740.287500\n",
              "50%      39.000000    30.400000     1.000000   9382.030000\n",
              "75%      51.000000    34.700000     2.000000  16639.915000\n",
              "max      64.000000    53.100000     5.000000  63770.430000"
            ]
          },
          "metadata": {
            "tags": []
          },
          "execution_count": 4
        }
      ]
    },
    {
      "cell_type": "code",
      "metadata": {
        "colab": {
          "base_uri": "https://localhost:8080/"
        },
        "id": "sSuWLq6RYUZ2",
        "outputId": "85e65354-2143-4f79-df2f-2738cd9049ef"
      },
      "source": [
        "dataset.info()"
      ],
      "execution_count": null,
      "outputs": [
        {
          "output_type": "stream",
          "text": [
            "<class 'pandas.core.frame.DataFrame'>\n",
            "RangeIndex: 1338 entries, 0 to 1337\n",
            "Data columns (total 7 columns):\n",
            " #   Column    Non-Null Count  Dtype  \n",
            "---  ------    --------------  -----  \n",
            " 0   age       1338 non-null   int64  \n",
            " 1   sex       1338 non-null   object \n",
            " 2   bmi       1338 non-null   float64\n",
            " 3   children  1338 non-null   int64  \n",
            " 4   smoker    1338 non-null   object \n",
            " 5   region    1338 non-null   object \n",
            " 6   expenses  1338 non-null   float64\n",
            "dtypes: float64(2), int64(2), object(3)\n",
            "memory usage: 73.3+ KB\n"
          ],
          "name": "stdout"
        }
      ]
    },
    {
      "cell_type": "code",
      "metadata": {
        "colab": {
          "base_uri": "https://localhost:8080/"
        },
        "id": "-SddlrZtYaZA",
        "outputId": "8d9ee466-028d-45ba-d53a-8a4925d9e392"
      },
      "source": [
        "dataset.isnull().sum()"
      ],
      "execution_count": null,
      "outputs": [
        {
          "output_type": "execute_result",
          "data": {
            "text/plain": [
              "age         0\n",
              "sex         0\n",
              "bmi         0\n",
              "children    0\n",
              "smoker      0\n",
              "region      0\n",
              "expenses    0\n",
              "dtype: int64"
            ]
          },
          "metadata": {
            "tags": []
          },
          "execution_count": 6
        }
      ]
    },
    {
      "cell_type": "code",
      "metadata": {
        "colab": {
          "base_uri": "https://localhost:8080/"
        },
        "id": "InL-F2AmoADC",
        "outputId": "5598a63a-5ba5-4f62-e733-3193a54e783a"
      },
      "source": [
        "from sklearn.preprocessing import LabelEncoder\n",
        "le = LabelEncoder()\n",
        "dataset['region'] = le.fit_transform(dataset['region'])\n",
        "print(dataset)"
      ],
      "execution_count": null,
      "outputs": [
        {
          "output_type": "stream",
          "text": [
            "      age     sex   bmi  children smoker  region  expenses\n",
            "0      19  female  27.9         0    yes       3  16884.92\n",
            "1      18    male  33.8         1     no       2   1725.55\n",
            "2      28    male  33.0         3     no       2   4449.46\n",
            "3      33    male  22.7         0     no       1  21984.47\n",
            "4      32    male  28.9         0     no       1   3866.86\n",
            "...   ...     ...   ...       ...    ...     ...       ...\n",
            "1333   50    male  31.0         3     no       1  10600.55\n",
            "1334   18  female  31.9         0     no       0   2205.98\n",
            "1335   18  female  36.9         0     no       2   1629.83\n",
            "1336   21  female  25.8         0     no       3   2007.95\n",
            "1337   61  female  29.1         0    yes       1  29141.36\n",
            "\n",
            "[1338 rows x 7 columns]\n"
          ],
          "name": "stdout"
        }
      ]
    },
    {
      "cell_type": "code",
      "metadata": {
        "colab": {
          "base_uri": "https://localhost:8080/"
        },
        "id": "vpCP8CDupB9m",
        "outputId": "8d97f0d8-a5a4-46ee-e547-257d4c0fca54"
      },
      "source": [
        "from sklearn.preprocessing import LabelEncoder\n",
        "le = LabelEncoder()\n",
        "dataset[['sex', 'smoker']]= dataset[['sex', 'smoker']].apply(le.fit_transform)\n",
        "print(dataset)\n"
      ],
      "execution_count": null,
      "outputs": [
        {
          "output_type": "stream",
          "text": [
            "      age  sex   bmi  children  smoker  region  expenses\n",
            "0      19    0  27.9         0       1       3  16884.92\n",
            "1      18    1  33.8         1       0       2   1725.55\n",
            "2      28    1  33.0         3       0       2   4449.46\n",
            "3      33    1  22.7         0       0       1  21984.47\n",
            "4      32    1  28.9         0       0       1   3866.86\n",
            "...   ...  ...   ...       ...     ...     ...       ...\n",
            "1333   50    1  31.0         3       0       1  10600.55\n",
            "1334   18    0  31.9         0       0       0   2205.98\n",
            "1335   18    0  36.9         0       0       2   1629.83\n",
            "1336   21    0  25.8         0       0       3   2007.95\n",
            "1337   61    0  29.1         0       1       1  29141.36\n",
            "\n",
            "[1338 rows x 7 columns]\n"
          ],
          "name": "stdout"
        }
      ]
    },
    {
      "cell_type": "code",
      "metadata": {
        "colab": {
          "base_uri": "https://localhost:8080/",
          "height": 383
        },
        "id": "QS0PfFCRoe-G",
        "outputId": "e3525bdc-1e3c-4193-b949-a221dac0aa31"
      },
      "source": [
        "import seaborn as sns\n",
        "sns.catplot(x='sex', data=dataset, kind='count');\n"
      ],
      "execution_count": null,
      "outputs": [
        {
          "output_type": "display_data",
          "data": {
            "image/png": "[encoded data removed]",
            "text/plain": [
              "<Figure size 360x360 with 1 Axes>"
            ]
          },
          "metadata": {
            "tags": [],
            "needs_background": "light"
          }
        }
      ]
    },
    {
      "cell_type": "code",
      "metadata": {
        "colab": {
          "base_uri": "https://localhost:8080/",
          "height": 206
        },
        "id": "tGxwwGSvoygn",
        "outputId": "928b2e92-c085-473e-db45-2b13ab9fcd85"
      },
      "source": [
        "dataset.tail()"
      ],
      "execution_count": null,
      "outputs": [
        {
          "output_type": "execute_result",
          "data": {
            "text/html": [
              "<div>\n",
              "<style scoped>\n",
              "    .dataframe tbody tr th:only-of-type {\n",
              "        vertical-align: middle;\n",
              "    }\n",
              "\n",
              "    .dataframe tbody tr th {\n",
              "        vertical-align: top;\n",
              "    }\n",
              "\n",
              "    .dataframe thead th {\n",
              "        text-align: right;\n",
              "    }\n",
              "</style>\n",
              "<table border=\"1\" class=\"dataframe\">\n",
              "  <thead>\n",
              "    <tr style=\"text-align: right;\">\n",
              "      <th></th>\n",
              "      <th>age</th>\n",
              "      <th>sex</th>\n",
              "      <th>bmi</th>\n",
              "      <th>children</th>\n",
              "      <th>smoker</th>\n",
              "      <th>region</th>\n",
              "      <th>expenses</th>\n",
              "    </tr>\n",
              "  </thead>\n",
              "  <tbody>\n",
              "    <tr>\n",
              "      <th>1333</th>\n",
              "      <td>50</td>\n",
              "      <td>1</td>\n",
              "      <td>31.0</td>\n",
              "      <td>3</td>\n",
              "      <td>0</td>\n",
              "      <td>1</td>\n",
              "      <td>10600.55</td>\n",
              "    </tr>\n",
              "    <tr>\n",
              "      <th>1334</th>\n",
              "      <td>18</td>\n",
              "      <td>0</td>\n",
              "      <td>31.9</td>\n",
              "      <td>0</td>\n",
              "      <td>0</td>\n",
              "      <td>0</td>\n",
              "      <td>2205.98</td>\n",
              "    </tr>\n",
              "    <tr>\n",
              "      <th>1335</th>\n",
              "      <td>18</td>\n",
              "      <td>0</td>\n",
              "      <td>36.9</td>\n",
              "      <td>0</td>\n",
              "      <td>0</td>\n",
              "      <td>2</td>\n",
              "      <td>1629.83</td>\n",
              "    </tr>\n",
              "    <tr>\n",
              "      <th>1336</th>\n",
              "      <td>21</td>\n",
              "      <td>0</td>\n",
              "      <td>25.8</td>\n",
              "      <td>0</td>\n",
              "      <td>0</td>\n",
              "      <td>3</td>\n",
              "      <td>2007.95</td>\n",
              "    </tr>\n",
              "    <tr>\n",
              "      <th>1337</th>\n",
              "      <td>61</td>\n",
              "      <td>0</td>\n",
              "      <td>29.1</td>\n",
              "      <td>0</td>\n",
              "      <td>1</td>\n",
              "      <td>1</td>\n",
              "      <td>29141.36</td>\n",
              "    </tr>\n",
              "  </tbody>\n",
              "</table>\n",
              "</div>"
            ],
            "text/plain": [
              "      age  sex   bmi  children  smoker  region  expenses\n",
              "1333   50    1  31.0         3       0       1  10600.55\n",
              "1334   18    0  31.9         0       0       0   2205.98\n",
              "1335   18    0  36.9         0       0       2   1629.83\n",
              "1336   21    0  25.8         0       0       3   2007.95\n",
              "1337   61    0  29.1         0       1       1  29141.36"
            ]
          },
          "metadata": {
            "tags": []
          },
          "execution_count": 10
        }
      ]
    },
    {
      "cell_type": "code",
      "metadata": {
        "colab": {
          "base_uri": "https://localhost:8080/",
          "height": 925
        },
        "id": "SDMIx6M0qHPv",
        "outputId": "e4eb8e96-378d-4ea8-e0e4-b460927c61e5"
      },
      "source": [
        "import seaborn as sns\n",
        "plt.figure(figsize=(18,18))\n",
        "hm=sns.heatmap(dataset.corr(),annot=True,cmap=\"RdYlGn\")\n",
        "plt.show()\n"
      ],
      "execution_count": null,
      "outputs": [
        {
          "output_type": "display_data",
          "data": {
            "image/png": "[encoded data removed]",
            "text/plain": [
              "<Figure size 1296x1296 with 2 Axes>"
            ]
          },
          "metadata": {
            "tags": [],
            "needs_background": "light"
          }
        }
      ]
    },
    {
      "cell_type": "code",
      "metadata": {
        "id": "-TViLtsYrRrd"
      },
      "source": [
        "X = dataset.iloc[:, :-1].values\n",
        "y = dataset.iloc[:, -1].values\n"
      ],
      "execution_count": null,
      "outputs": []
    },
    {
      "cell_type": "code",
      "metadata": {
        "id": "vgABXyVIrXTY"
      },
      "source": [
        "from sklearn.model_selection import train_test_split\n",
        "X_train, X_test, y_train, y_test = train_test_split(\n",
        "       X, y,test_size = 0.2, random_state=0)"
      ],
      "execution_count": null,
      "outputs": []
    },
    {
      "cell_type": "code",
      "metadata": {
        "colab": {
          "base_uri": "https://localhost:8080/"
        },
        "id": "DJicWYNtrz45",
        "outputId": "0a4d7b26-02e2-4378-c7a2-ea4c898ab187"
      },
      "source": [
        "y = y.reshape(len(y),1)\n",
        "from sklearn.model_selection import train_test_split\n",
        "X_train, X_test, y_train, y_test = train_test_split(X, y, test_size = 0.2, random_state = 0)\n",
        "from sklearn.preprocessing import StandardScaler\n",
        "sc_X = StandardScaler()\n",
        "sc_y = StandardScaler()\n",
        "X_train = sc_X.fit_transform(X_train)\n",
        "y_train = sc_y.fit_transform(y_train)\n",
        "from sklearn.svm import SVR\n",
        "regressor = SVR(kernel = 'rbf')\n",
        "regressor.fit(X_train, y_train)\n",
        "y_pred = sc_y.inverse_transform(regressor.predict(sc_X.transform(X_test)))\n",
        "np.set_printoptions(precision=2)\n",
        "print(np.concatenate((y_pred.reshape(len(y_pred),1), y_test.reshape(len(y_test),1)),1))\n",
        "from sklearn.metrics import r2_score\n",
        "r2_score(y_test, y_pred)\n"
      ],
      "execution_count": null,
      "outputs": [
        {
          "output_type": "stream",
          "text": [
            "[[10821.8   9724.53]\n",
            " [ 9699.21  8547.69]\n",
            " [48907.52 45702.02]\n",
            " [13884.25 12950.07]\n",
            " [11202.24  9644.25]\n",
            " [ 5312.14  4500.34]\n",
            " [ 3404.39  2198.19]\n",
            " [12578.2  11436.74]\n",
            " [ 8384.22  7537.16]\n",
            " [ 5629.98  5425.02]\n",
            " [ 8265.55  6753.04]\n",
            " [11385.73 10493.95]\n",
            " [ 8477.89  7337.75]\n",
            " [ 5221.07  4185.1 ]\n",
            " [20756.81 18310.74]\n",
            " [11768.98 10702.64]\n",
            " [13626.15 12523.6 ]\n",
            " [ 4805.39  3490.55]\n",
            " [ 7542.85  6457.84]\n",
            " [25010.21 33475.82]\n",
            " [24146.12 23967.38]\n",
            " [13855.07 12643.38]\n",
            " [11344.45 23045.57]\n",
            " [27149.29 23065.42]\n",
            " [ 2803.96  1674.63]\n",
            " [ 5929.16  4667.61]\n",
            " [ 5242.84  3732.63]\n",
            " [ 8594.35  7682.67]\n",
            " [ 4817.39  3756.62]\n",
            " [ 9558.98  8413.46]\n",
            " [ 8828.09  8059.68]\n",
            " [49036.04 48970.25]\n",
            " [13972.82 12979.36]\n",
            " [11408.84 20630.28]\n",
            " [14029.7  14571.89]\n",
            " [ 5237.67  4137.52]\n",
            " [ 9345.09  8347.16]\n",
            " [38949.95 51194.56]\n",
            " [39899.98 40003.33]\n",
            " [ 3026.83  1880.49]\n",
            " [ 6824.57  5458.05]\n",
            " [ 3939.81  2867.12]\n",
            " [22577.75 20149.32]\n",
            " [49680.88 47496.49]\n",
            " [38310.14 36149.48]\n",
            " [ 4805.27 26018.95]\n",
            " [11747.02 19749.38]\n",
            " [ 8117.6   6940.91]\n",
            " [ 5724.85  4718.2 ]\n",
            " [13163.1  22192.44]\n",
            " [ 3899.27  2899.49]\n",
            " [ 5356.26 18838.7 ]\n",
            " [30133.34 23568.27]\n",
            " [43639.87 46255.11]\n",
            " [13001.2  24227.34]\n",
            " [ 4663.89  3268.85]\n",
            " [ 3434.13  2322.62]\n",
            " [ 9987.81  8827.21]\n",
            " [ 9061.83 14478.33]\n",
            " [14253.42 13112.6 ]\n",
            " [ 2181.99  1253.94]\n",
            " [39850.28 46718.16]\n",
            " [15162.64 13919.82]\n",
            " [10838.04  9630.4 ]\n",
            " [13617.41 10736.87]\n",
            " [10861.58  9880.07]\n",
            " [23519.71 32548.34]\n",
            " [36265.45 38746.36]\n",
            " [ 4000.38  3180.51]\n",
            " [ 7993.8   8162.72]\n",
            " [14119.83 13041.92]\n",
            " [12700.7  11554.22]\n",
            " [19835.81 16232.85]\n",
            " [14886.01 13887.97]\n",
            " [14058.27 13012.21]\n",
            " [14075.06 13217.09]\n",
            " [ 8390.4   7147.11]\n",
            " [ 8890.91  7731.43]\n",
            " [22385.17 20296.86]\n",
            " [46604.99 47403.88]\n",
            " [12684.26 11658.38]\n",
            " [43704.12 45863.21]\n",
            " [ 3251.01  2055.32]\n",
            " [ 8559.66  7441.05]\n",
            " [41670.54 41034.22]\n",
            " [18407.99 18972.5 ]\n",
            " [ 4470.01  3410.32]\n",
            " [ 3867.33  2699.57]\n",
            " [13211.64 12333.83]\n",
            " [36765.2  36837.47]\n",
            " [ 7904.31  6334.34]\n",
            " [11398.51 10214.64]\n",
            " [ 4255.99 17878.9 ]\n",
            " [ 9617.02  8515.76]\n",
            " [ 5797.52  4518.83]\n",
            " [ 6313.29  5148.55]\n",
            " [34894.99 42303.69]\n",
            " [31809.89 38998.55]\n",
            " [ 6492.11  5327.4 ]\n",
            " [11814.02 10602.39]\n",
            " [ 2945.29  1824.29]\n",
            " [ 6499.86  5377.46]\n",
            " [ 5491.13  4349.46]\n",
            " [35942.94 37742.58]\n",
            " [28045.11 32787.46]\n",
            " [ 4201.69  3353.47]\n",
            " [11629.77 10577.09]\n",
            " [ 4658.6   3556.92]\n",
            " [13047.17 11944.59]\n",
            " [42756.48 52590.83]\n",
            " [12939.44 12475.35]\n",
            " [ 4984.99  4266.17]\n",
            " [10362.14  9249.5 ]\n",
            " [26329.16 33732.69]\n",
            " [48275.85 48675.52]\n",
            " [ 8783.87  7729.65]\n",
            " [ 2720.98  1964.78]\n",
            " [ 9659.62  8444.47]\n",
            " [13439.31 12347.17]\n",
            " [ 9728.43  9301.89]\n",
            " [42455.39 42124.52]\n",
            " [11511.31  9991.04]\n",
            " [15189.73 14319.03]\n",
            " [ 8472.57  5428.73]\n",
            " [ 8808.11  7626.99]\n",
            " [ 5768.95  4906.41]\n",
            " [26019.54 23401.31]\n",
            " [19334.86 21098.55]\n",
            " [45846.22 48173.36]\n",
            " [ 3114.99  1917.32]\n",
            " [ 9345.01  8219.2 ]\n",
            " [ 2932.11  1725.55]\n",
            " [ 7167.36  5976.83]\n",
            " [10565.79  9361.33]\n",
            " [32096.56 22144.03]\n",
            " [30379.75 35491.64]\n",
            " [20240.69 19515.54]\n",
            " [11181.03 10107.22]\n",
            " [22410.63 23244.79]\n",
            " [ 3909.64  2789.06]\n",
            " [ 3360.45  2261.57]\n",
            " [11787.83 10594.5 ]\n",
            " [10398.92  9304.7 ]\n",
            " [11628.44 10435.07]\n",
            " [ 6026.04  4894.75]\n",
            " [15285.61 14313.85]\n",
            " [14059.44 28287.9 ]\n",
            " [ 4859.62 14426.07]\n",
            " [ 2494.69  1627.28]\n",
            " [12222.76 25517.11]\n",
            " [ 7714.22  6555.07]\n",
            " [40525.76 39611.76]\n",
            " [11173.9   9964.06]\n",
            " [ 2839.04  1720.35]\n",
            " [ 3369.89  2730.11]\n",
            " [ 7680.01  6500.24]\n",
            " [ 3861.36  2643.27]\n",
            " [ 2813.82  1719.44]\n",
            " [11823.3  11085.59]\n",
            " [11148.22 10115.01]\n",
            " [ 6247.5   4846.92]\n",
            " [13987.89 12982.87]\n",
            " [14055.77 28923.14]\n",
            " [10395.89  9391.35]\n",
            " [ 5761.38  4544.23]\n",
            " [ 6826.03 17128.43]\n",
            " [14539.74 13844.51]\n",
            " [ 7749.66  6113.23]\n",
            " [ 5458.23  4441.21]\n",
            " [ 2810.73  1633.96]\n",
            " [ 5255.09  4058.71]\n",
            " [ 5434.06  4435.09]\n",
            " [ 9380.27  8310.84]\n",
            " [ 3079.96  1986.93]\n",
            " [ 4973.38  4260.74]\n",
            " [ 4033.55  4504.66]\n",
            " [ 5173.08  4428.89]\n",
            " [ 7214.87  6117.49]\n",
            " [36836.67 30184.94]\n",
            " [ 2822.75  1708.93]\n",
            " [12284.66 11187.66]\n",
            " [ 7161.49  6796.86]\n",
            " [12524.52 11356.66]\n",
            " [ 3649.02  2498.41]\n",
            " [ 6473.89 27375.9 ]\n",
            " [28572.46 28101.33]\n",
            " [ 3664.71  2254.8 ]\n",
            " [ 3418.93  2597.78]\n",
            " [15578.86 14692.67]\n",
            " [11523.27 10370.91]\n",
            " [35994.72 41097.16]\n",
            " [ 5122.13  3981.98]\n",
            " [ 6562.74  5472.45]\n",
            " [22831.7  21223.68]\n",
            " [ 3690.77  2534.39]\n",
            " [ 2729.58  1972.95]\n",
            " [ 7634.54  6406.41]\n",
            " [ 8077.44  6551.75]\n",
            " [ 5124.2   4058.12]\n",
            " [ 5451.33  4243.59]\n",
            " [12727.28 11512.41]\n",
            " [44482.19 46889.26]\n",
            " [13434.62 12268.63]\n",
            " [19828.08 19199.94]\n",
            " [ 5569.55  4433.39]\n",
            " [47960.16 42969.85]\n",
            " [ 4797.35 23241.47]\n",
            " [10343.91  9140.95]\n",
            " [ 6856.33  5836.52]\n",
            " [ 2157.33  1149.4 ]\n",
            " [ 9876.91  8765.25]\n",
            " [14897.27 14043.48]\n",
            " [ 6224.14  5312.17]\n",
            " [ 3383.59 10795.94]\n",
            " [ 7372.03  6282.24]\n",
            " [ 2696.18  1969.61]\n",
            " [ 7094.8   6746.74]\n",
            " [ 6401.63  5354.07]\n",
            " [14992.92 14001.29]\n",
            " [ 8301.18  6877.98]\n",
            " [ 6977.26  6196.45]\n",
            " [ 9008.62  7986.48]\n",
            " [ 9489.29  8277.52]\n",
            " [ 4244.72  3206.49]\n",
            " [13007.77 11848.14]\n",
            " [15007.4  14210.54]\n",
            " [13581.56 12265.51]\n",
            " [12935.01 11837.16]\n",
            " [ 7732.71  6652.53]\n",
            " [ 3057.78  2137.65]\n",
            " [ 2216.71  1131.51]\n",
            " [ 9483.07  8342.91]\n",
            " [13391.08 12244.53]\n",
            " [ 8530.2   4561.19]\n",
            " [ 5447.29 17626.24]\n",
            " [ 8083.54  6875.96]\n",
            " [10528.82  9447.38]\n",
            " [26731.49 34254.05]\n",
            " [ 7171.78  6067.13]\n",
            " [12516.54 11729.68]\n",
            " [ 6592.94  5383.54]\n",
            " [33655.58 37465.34]\n",
            " [ 8298.82  7371.77]\n",
            " [ 8494.7   7325.05]\n",
            " [ 8938.15  8410.05]\n",
            " [11630.2  10461.98]\n",
            " [ 4364.91  3279.87]\n",
            " [ 8902.97  7727.25]\n",
            " [ 3798.59  2731.91]\n",
            " [ 7864.48  6858.48]\n",
            " [24544.45 19521.97]\n",
            " [40997.39 47305.31]\n",
            " [ 5165.7   3987.93]\n",
            " [ 4106.14  3238.44]\n",
            " [ 3411.13  7323.73]\n",
            " [ 2569.85  1704.57]\n",
            " [ 8567.33  7445.92]\n",
            " [ 2792.26  1629.83]\n",
            " [ 3338.22  4877.98]\n",
            " [ 4253.65  3561.89]\n",
            " [ 9925.85  8605.36]\n",
            " [30010.78 24520.26]\n",
            " [37472.   45710.21]\n",
            " [15935.92 15019.76]\n",
            " [ 7847.08  6664.69]\n",
            " [12505.58 20709.02]\n",
            " [41938.45 40932.43]\n",
            " [ 9964.16  9500.57]]\n"
          ],
          "name": "stdout"
        },
        {
          "output_type": "stream",
          "text": [
            "/usr/local/lib/python3.7/dist-packages/sklearn/utils/validation.py:760: DataConversionWarning: A column-vector y was passed when a 1d array was expected. Please change the shape of y to (n_samples, ), for example using ravel().\n",
            "  y = column_or_1d(y, warn=True)\n"
          ],
          "name": "stderr"
        },
        {
          "output_type": "execute_result",
          "data": {
            "text/plain": [
              "0.8897106497731322"
            ]
          },
          "metadata": {
            "tags": []
          },
          "execution_count": 17
        }
      ]
    }
  ]
}