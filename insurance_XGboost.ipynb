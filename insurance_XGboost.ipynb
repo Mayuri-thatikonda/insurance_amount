{
  "nbformat": 4,
  "nbformat_minor": 0,
  "metadata": {
    "colab": {
      "name": "insurance_XGboost.ipynb",
      "provenance": [],
      "authorship_tag": "ABX9TyMakIpzhWF5DdyR/EIRAiUs",
      "include_colab_link": true
    },
    "kernelspec": {
      "name": "python3",
      "display_name": "Python 3"
    },
    "language_info": {
      "name": "python"
    }
  },
  "cells": [
    {
      "cell_type": "markdown",
      "metadata": {
        "id": "view-in-github",
        "colab_type": "text"
      },
      "source": [
        "<a href=\"https://colab.research.google.com/github/Mayuri-thatikonda/insurance_amount/blob/main/insurance_XGboost.ipynb\" target=\"_parent\"><img src=\"https://colab.research.google.com/assets/colab-badge.svg\" alt=\"Open In Colab\"/></a>"
      ]
    },
    {
      "cell_type": "code",
      "metadata": {
        "colab": {
          "base_uri": "https://localhost:8080/"
        },
        "id": "FJNAOjTCiJma",
        "outputId": "daa014a3-670d-4d45-b6d5-85965519eaf0"
      },
      "source": [
        "import numpy as np\n",
        "import pandas as pd\n",
        "import matplotlib.pyplot as plt\n",
        "dataset = pd.read_csv('insurance.csv')\n",
        "from sklearn.preprocessing import LabelEncoder\n",
        "le = LabelEncoder()\n",
        "dataset['region'] = le.fit_transform(dataset['region'])\n",
        "print(dataset)\n",
        "from sklearn.preprocessing import LabelEncoder\n",
        "le = LabelEncoder()\n",
        "dataset[['sex', 'smoker']]= dataset[['sex', 'smoker']].apply(le.fit_transform)\n",
        "print(dataset)\n",
        "X = dataset.iloc[:, :-1].values\n",
        "y = dataset.iloc[:, -1].values\n",
        "from sklearn.model_selection import train_test_split\n",
        "X_train, X_test, y_train, y_test = train_test_split(\n",
        "       X, y,test_size = 0.2, random_state=0)\n",
        "from xgboost import XGBRegressor\n",
        "regressor = XGBRegressor()\n",
        "regressor.fit(X_train, y_train)\n",
        "from sklearn.metrics import confusion_matrix, accuracy_score\n",
        "y_pred = regressor.predict(X_test)\n",
        "from sklearn.metrics import r2_score\n",
        "r2_score(y_test, y_pred)\n",
        "from sklearn.model_selection import cross_val_score\n",
        "accuracies = cross_val_score(estimator = regressor, X = X_train, y = y_train, cv = 10)\n",
        "print(\"Accuracy: {:.2f} %\".format(accuracies.mean()*100))\n",
        "print(\"Standard Deviation: {:.2f} %\".format(accuracies.std()*100))"
      ],
      "execution_count": 1,
      "outputs": [
        {
          "output_type": "stream",
          "text": [
            "      age     sex   bmi  children smoker  region  expenses\n",
            "0      19  female  27.9         0    yes       3  16884.92\n",
            "1      18    male  33.8         1     no       2   1725.55\n",
            "2      28    male  33.0         3     no       2   4449.46\n",
            "3      33    male  22.7         0     no       1  21984.47\n",
            "4      32    male  28.9         0     no       1   3866.86\n",
            "...   ...     ...   ...       ...    ...     ...       ...\n",
            "1333   50    male  31.0         3     no       1  10600.55\n",
            "1334   18  female  31.9         0     no       0   2205.98\n",
            "1335   18  female  36.9         0     no       2   1629.83\n",
            "1336   21  female  25.8         0     no       3   2007.95\n",
            "1337   61  female  29.1         0    yes       1  29141.36\n",
            "\n",
            "[1338 rows x 7 columns]\n",
            "      age  sex   bmi  children  smoker  region  expenses\n",
            "0      19    0  27.9         0       1       3  16884.92\n",
            "1      18    1  33.8         1       0       2   1725.55\n",
            "2      28    1  33.0         3       0       2   4449.46\n",
            "3      33    1  22.7         0       0       1  21984.47\n",
            "4      32    1  28.9         0       0       1   3866.86\n",
            "...   ...  ...   ...       ...     ...     ...       ...\n",
            "1333   50    1  31.0         3       0       1  10600.55\n",
            "1334   18    0  31.9         0       0       0   2205.98\n",
            "1335   18    0  36.9         0       0       2   1629.83\n",
            "1336   21    0  25.8         0       0       3   2007.95\n",
            "1337   61    0  29.1         0       1       1  29141.36\n",
            "\n",
            "[1338 rows x 7 columns]\n",
            "[18:05:26] WARNING: /workspace/src/objective/regression_obj.cu:152: reg:linear is now deprecated in favor of reg:squarederror.\n",
            "[18:05:26] WARNING: /workspace/src/objective/regression_obj.cu:152: reg:linear is now deprecated in favor of reg:squarederror.\n",
            "[18:05:26] WARNING: /workspace/src/objective/regression_obj.cu:152: reg:linear is now deprecated in favor of reg:squarederror.\n",
            "[18:05:26] WARNING: /workspace/src/objective/regression_obj.cu:152: reg:linear is now deprecated in favor of reg:squarederror.\n",
            "[18:05:26] WARNING: /workspace/src/objective/regression_obj.cu:152: reg:linear is now deprecated in favor of reg:squarederror.\n",
            "[18:05:26] WARNING: /workspace/src/objective/regression_obj.cu:152: reg:linear is now deprecated in favor of reg:squarederror.\n",
            "[18:05:26] WARNING: /workspace/src/objective/regression_obj.cu:152: reg:linear is now deprecated in favor of reg:squarederror.\n",
            "[18:05:26] WARNING: /workspace/src/objective/regression_obj.cu:152: reg:linear is now deprecated in favor of reg:squarederror.\n",
            "[18:05:26] WARNING: /workspace/src/objective/regression_obj.cu:152: reg:linear is now deprecated in favor of reg:squarederror.\n",
            "[18:05:26] WARNING: /workspace/src/objective/regression_obj.cu:152: reg:linear is now deprecated in favor of reg:squarederror.\n",
            "[18:05:26] WARNING: /workspace/src/objective/regression_obj.cu:152: reg:linear is now deprecated in favor of reg:squarederror.\n",
            "Accuracy: 84.46 %\n",
            "Standard Deviation: 4.07 %\n"
          ],
          "name": "stdout"
        }
      ]
    }
  ]
}